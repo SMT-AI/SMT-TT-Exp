{
 "cells": [
  {
   "cell_type": "markdown",
   "metadata": {},
   "source": [
    "## HNN TT No Standards v1"
   ]
  },
  {
   "cell_type": "code",
   "execution_count": 4,
   "metadata": {},
   "outputs": [],
   "source": [
    "import torch\n",
    "import torch.nn as  nn\n",
    "import torch.nn.functional as F\n",
    "from dataclasses import dataclass\n",
    "from typing import List, Dict, Tuple, Optional\n",
    "from enum import Enum"
   ]
  },
  {
   "cell_type": "code",
   "execution_count": 5,
   "metadata": {},
   "outputs": [],
   "source": [
    "class CourseType(Enum):\n",
    "    THOERY = \"theory\"\n",
    "    THEORY_PRACTICAL = \"theory_practical\""
   ]
  },
  {
   "cell_type": "code",
   "execution_count": 6,
   "metadata": {},
   "outputs": [],
   "source": [
    "@dataclass\n",
    "class Course:\n",
    "    id: str\n",
    "    name: str\n",
    "    course_type: CourseType\n",
    "    sessions_per_week: int\n",
    "    session_duration: int\n",
    "    practical_sessions: int = 0\n",
    "    practical_duration: int = 0"
   ]
  },
  {
   "cell_type": "code",
   "execution_count": 7,
   "metadata": {},
   "outputs": [],
   "source": [
    "@dataclass\n",
    "class TimeSlot:\n",
    "    day_order: int\n",
    "    start_time: int\n",
    "    duration: int"
   ]
  },
  {
   "cell_type": "code",
   "execution_count": 8,
   "metadata": {},
   "outputs": [],
   "source": [
    "@dataclass\n",
    "class TimeSlot:\n",
    "    day_order: int\n",
    "    start_time: int\n",
    "    duration: int"
   ]
  },
  {
   "cell_type": "code",
   "execution_count": 9,
   "metadata": {},
   "outputs": [],
   "source": [
    "@dataclass\n",
    "class  Faculty:\n",
    "    id: str\n",
    "    name: str\n",
    "    courses: List[str]\n",
    "    availability: Dict[int, List[TimeSlot]]"
   ]
  },
  {
   "cell_type": "code",
   "execution_count": 10,
   "metadata": {},
   "outputs": [],
   "source": [
    "class ScheduleState:\n",
    "    def _init_(self, config):\n",
    "        self.day_orders =  range(1, config['num_day_orders'] + 1)\n",
    "        self.working_days  = config['working_days']\n",
    "        self.time_slot = self._generate_time_slots(config)\n",
    "        self.schedule_grid = {}\n",
    "    \n",
    "    def _generate_time_slots(self, config):\n",
    "        slots = []\n",
    "        day_start = config['day_start_minutes']\n",
    "        day_end = config['day_end_minutes']\n",
    "        slot_duration = config['slot_duration']\n",
    "        while current_time + slot_duration <=  day_end:\n",
    "            slots.append(current_time)\n",
    "            current_time += slot_duration\n",
    "        return slots"
   ]
  },
  {
   "cell_type": "code",
   "execution_count": 12,
   "metadata": {},
   "outputs": [],
   "source": [
    "class ScheduleEmbedding (nn.Module):\n",
    "    def __init__(self, config):\n",
    "        super().__init__()\n",
    "        self.day_order_embeddings = nn.Embedding(len(config['time_slots']), config['hidden_dim'])\n",
    "        self.time_embedding = nn.Embedding(len(config['time_slots']), config['hidden_dim'])\n",
    "        self.course_embedding = nn.Embedding(config['num_courses'], config['hidden_dim'])\n",
    "        self.faculty_embedding = nn.Embedding(config['num_faculty'], config['hidden_dim'])\n",
    "\n",
    "        self.fusion_network = nn.Sequential(\n",
    "            nn.Linear(config['hidden_dim'] * 4, config['hidden_dim'] * 2),\n",
    "            nn.ReLU(),\n",
    "            nn.Linear(config['hidden_dim'] * 2, config['hidden_dim'])\n",
    "        )\n",
    "\n",
    "    def forward(self, schedule_state):\n",
    "        day_embeds = self.day_order_embedding(schedule_state.day_orders)\n",
    "        time_embeds = self.time_embedding(schedule_state.time_slots)\n",
    "        course_embeds = self.course_embedding(schedule_state.courses)\n",
    "        faculty_embeds = self.faculty_embedding(schedule_state.faculty)\n",
    "\n",
    "        combined = torch.cat([day_embeds, time_embeds, course_embeds, faculty_embeds], dim = -1)\n",
    "        return self.fusion_network(combined)\n"
   ]
  },
  {
   "cell_type": "code",
   "execution_count": null,
   "metadata": {},
   "outputs": [],
   "source": [
    "class SchedulerNetwork(nn.Module):\n",
    "    def __init__(self, config):\n",
    "        super().__init__()\n",
    "        self.embedding = ScheduleEmbedding(config)\n",
    "\n",
    "        self.transformer = nn.TransformerEncoder(\n",
    "            nn.TransformerEncoderLayer(\n",
    "                d_model = config['hidden_dim'],\n",
    "                nhead = config['num_heads'],\n",
    "                dim_feedforward = config['hidden_dim'] * 4\n",
    "            ),\n",
    "            num_layers = config['num_layers']\n",
    "        )\n",
    "\n",
    "        self.schedule_head = nn.Sequential(\n",
    "            nn.Linear(config['hidden_dim'], config['hidden_dim']),\n",
    "            nn.ReLU(),\n",
    "            nn.Linear(config['hidden_dim'], 1)\n",
    "        )\n",
    "\n",
    "    def forward(self, schedule_state):\n",
    "        embedded = self.embedding(schedule_state)\n",
    "        context = self.transformer(embedded)\n",
    "        return self.schedule_head(context)\n"
   ]
  }
 ],
 "metadata": {
  "kernelspec": {
   "display_name": "Python 3",
   "language": "python",
   "name": "python3"
  },
  "language_info": {
   "codemirror_mode": {
    "name": "ipython",
    "version": 3
   },
   "file_extension": ".py",
   "mimetype": "text/x-python",
   "name": "python",
   "nbconvert_exporter": "python",
   "pygments_lexer": "ipython3",
   "version": "3.10.12"
  }
 },
 "nbformat": 4,
 "nbformat_minor": 2
}
